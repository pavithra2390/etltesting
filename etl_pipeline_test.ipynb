{
 "cells": [
  {
   "cell_type": "code",
   "execution_count": null,
   "id": "00c206c3",
   "metadata": {},
   "outputs": [],
   "source": [
    "import pandas as pd\n",
    "import pytest"
   ]
  },
  {
   "cell_type": "code",
   "execution_count": 1,
   "id": "0a0a84a7",
   "metadata": {},
   "outputs": [],
   "source": [
    "def df():\n",
    "    file= pd.ExcelFile('ETLTest.xlsx')\n",
    "    df = excel_file.parse(sheet_name=\"dim_stores\")\n",
    "    return df"
   ]
  },
  {
   "cell_type": "code",
   "execution_count": 2,
   "id": "ae4e1fa2",
   "metadata": {},
   "outputs": [],
   "source": [
    "# check if column exists\n",
    "def test_col_exists(df):\n",
    "    name=\"store_id\"\n",
    "    assert name in df.columns"
   ]
  },
  {
   "cell_type": "code",
   "execution_count": 3,
   "id": "ffe11118",
   "metadata": {},
   "outputs": [],
   "source": [
    "# check for nulls\n",
    "def test_null_check(df):\n",
    "    assert np.where(df['store_id'].isnull())"
   ]
  },
  {
   "cell_type": "code",
   "execution_count": 4,
   "id": "684fa4a3",
   "metadata": {},
   "outputs": [],
   "source": [
    "# check values are unique\n",
    "def test_unique_check(df):\n",
    "    assert pd.Series(df['store_id']).is_unique"
   ]
  },
  {
   "cell_type": "code",
   "execution_count": 5,
   "id": "65d61b68",
   "metadata": {},
   "outputs": [],
   "source": [
    "# check data type\n",
    "def test_productkey_dtype_int(df):\n",
    "    assert (df['store_id'].dtype == int or df['store_id'].dtype == np.int64)"
   ]
  },
  {
   "cell_type": "code",
   "execution_count": null,
   "id": "c9ec7cf7",
   "metadata": {},
   "outputs": [],
   "source": []
  }
 ],
 "metadata": {
  "kernelspec": {
   "display_name": "Python 3 (ipykernel)",
   "language": "python",
   "name": "python3"
  },
  "language_info": {
   "codemirror_mode": {
    "name": "ipython",
    "version": 3
   },
   "file_extension": ".py",
   "mimetype": "text/x-python",
   "name": "python",
   "nbconvert_exporter": "python",
   "pygments_lexer": "ipython3",
   "version": "3.9.7"
  }
 },
 "nbformat": 4,
 "nbformat_minor": 5
}
